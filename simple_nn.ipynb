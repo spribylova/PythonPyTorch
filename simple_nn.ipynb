{
  "nbformat": 4,
  "nbformat_minor": 0,
  "metadata": {
    "colab": {
      "name": "simple_nn.ipynb",
      "provenance": [],
      "collapsed_sections": []
    },
    "kernelspec": {
      "name": "python3",
      "display_name": "Python 3"
    },
    "language_info": {
      "name": "python"
    }
  },
  "cells": [
    {
      "cell_type": "code",
      "source": [
        "# simple neural network"
      ],
      "metadata": {
        "id": "BEjPzM3QWpct"
      },
      "execution_count": 10,
      "outputs": []
    },
    {
      "cell_type": "code",
      "execution_count": 1,
      "metadata": {
        "id": "c-AIQkdiUyDy"
      },
      "outputs": [],
      "source": [
        "import torch\n",
        "import torch.nn as nn"
      ]
    },
    {
      "cell_type": "code",
      "source": [
        "# define variables input size, hidden unit, output size, batch size, and the learning rate"
      ],
      "metadata": {
        "id": "Uh4w8UGiWqm8"
      },
      "execution_count": null,
      "outputs": []
    },
    {
      "cell_type": "code",
      "source": [
        "n_input, n_hidden, n_out, batch_size, learning_rate = 10, 15, 1, 100, 0.01"
      ],
      "metadata": {
        "id": "AoAsqrt3V81s"
      },
      "execution_count": 2,
      "outputs": []
    },
    {
      "cell_type": "code",
      "source": [
        "# randomly initialize the dummy input and the output target data (or tensor)"
      ],
      "metadata": {
        "id": "bjkOV6sCWq_M"
      },
      "execution_count": null,
      "outputs": []
    },
    {
      "cell_type": "code",
      "source": [
        "data_x = torch.randn(batch_size, n_input)\n",
        "data_y = (torch.rand(size=(batch_size, 1)) < 0.5).float()"
      ],
      "metadata": {
        "id": "kQTC4_KaWBGr"
      },
      "execution_count": 3,
      "outputs": []
    },
    {
      "cell_type": "code",
      "source": [
        "# input data with 100 data samples with 10 features each and respectively initialized the output data with 100 data points"
      ],
      "metadata": {
        "id": "JfKTUd_nWsbS"
      },
      "execution_count": null,
      "outputs": []
    },
    {
      "cell_type": "code",
      "source": [
        "print(data_x.size())\n",
        "print(data_y.size())"
      ],
      "metadata": {
        "colab": {
          "base_uri": "https://localhost:8080/"
        },
        "id": "cZNj1tBdWBLL",
        "outputId": "e81566a2-641f-4789-861f-4d26d3525ccb"
      },
      "execution_count": 4,
      "outputs": [
        {
          "output_type": "stream",
          "name": "stdout",
          "text": [
            "torch.Size([100, 10])\n",
            "torch.Size([100, 1])\n"
          ]
        }
      ]
    },
    {
      "cell_type": "code",
      "source": [
        "# create the simple sequential model with output sigmoid layer as follows"
      ],
      "metadata": {
        "id": "_ZfUDr8FWrur"
      },
      "execution_count": null,
      "outputs": []
    },
    {
      "cell_type": "code",
      "source": [
        "model = nn.Sequential(nn.Linear(n_input, n_hidden),\n",
        "                      nn.ReLU(),\n",
        "                      nn.Linear(n_hidden, n_out),\n",
        "                      nn.Sigmoid())\n",
        "print(model)"
      ],
      "metadata": {
        "colab": {
          "base_uri": "https://localhost:8080/"
        },
        "id": "CUewunyNWBOU",
        "outputId": "f08391c6-3729-465b-b1eb-4a3b89bee74a"
      },
      "execution_count": 5,
      "outputs": [
        {
          "output_type": "stream",
          "name": "stdout",
          "text": [
            "Sequential(\n",
            "  (0): Linear(in_features=10, out_features=15, bias=True)\n",
            "  (1): ReLU()\n",
            "  (2): Linear(in_features=15, out_features=1, bias=True)\n",
            "  (3): Sigmoid()\n",
            ")\n"
          ]
        }
      ]
    },
    {
      "cell_type": "code",
      "source": [
        "# define the loss function and the optimizer for gradient descent, use SGD"
      ],
      "metadata": {
        "id": "1Qij8ocqZZXV"
      },
      "execution_count": null,
      "outputs": []
    },
    {
      "cell_type": "code",
      "source": [
        "loss_function = nn.MSELoss()\n",
        "optimizer = torch.optim.SGD(model.parameters(), lr=learning_rate)"
      ],
      "metadata": {
        "id": "S8k5if9lWORY"
      },
      "execution_count": 6,
      "outputs": []
    },
    {
      "cell_type": "code",
      "source": [
        "# Training loop - Forward propagation, Backward propagation, Gradient descent"
      ],
      "metadata": {
        "id": "BJWemCKqZX5X"
      },
      "execution_count": null,
      "outputs": []
    },
    {
      "cell_type": "code",
      "source": [
        "losses = []\n",
        "for epoch in range(5000):\n",
        "    pred_y = model(data_x)\n",
        "    loss = loss_function(pred_y, data_y)\n",
        "    losses.append(loss.item())\n",
        "\n",
        "    model.zero_grad()\n",
        "    loss.backward()\n",
        "\n",
        "    optimizer.step()"
      ],
      "metadata": {
        "id": "ULgropvhWObQ"
      },
      "execution_count": 7,
      "outputs": []
    },
    {
      "cell_type": "code",
      "source": [
        "# the loss is decreasing in each epoch which shows that the parameters are being learned"
      ],
      "metadata": {
        "id": "eY2n5fxdWn5V"
      },
      "execution_count": null,
      "outputs": []
    },
    {
      "cell_type": "code",
      "source": [
        "import matplotlib.pyplot as plt\n",
        "plt.plot(losses)\n",
        "plt.ylabel('loss')\n",
        "plt.xlabel('epoch')\n",
        "plt.title(\"Learning rate %f\"%(learning_rate))\n",
        "plt.show()"
      ],
      "metadata": {
        "colab": {
          "base_uri": "https://localhost:8080/",
          "height": 295
        },
        "id": "r94F8j7NWWvX",
        "outputId": "e302c8e9-b03d-45fe-833b-8dda162f9fef"
      },
      "execution_count": 8,
      "outputs": [
        {
          "output_type": "display_data",
          "data": {
            "text/plain": [
              "<Figure size 432x288 with 1 Axes>"
            ],
            "image/png": "[encoded data removed]"
          },
          "metadata": {
            "needs_background": "light"
          }
        }
      ]
    },
    {
      "cell_type": "code",
      "source": [
        ""
      ],
      "metadata": {
        "id": "xFPyP0MUWbVG"
      },
      "execution_count": null,
      "outputs": []
    },
    {
      "cell_type": "code",
      "source": [
        ""
      ],
      "metadata": {
        "id": "fdE7p1-2WbYG"
      },
      "execution_count": null,
      "outputs": []
    },
    {
      "cell_type": "code",
      "source": [
        ""
      ],
      "metadata": {
        "id": "k_2AjxXPWW0c"
      },
      "execution_count": null,
      "outputs": []
    }
  ]
}